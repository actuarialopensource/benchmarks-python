{
 "cells": [
  {
   "cell_type": "code",
   "execution_count": 22,
   "metadata": {},
   "outputs": [],
   "source": [
    "import numpy as np\n",
    "import pandas as pd"
   ]
  },
  {
   "cell_type": "markdown",
   "metadata": {},
   "source": [
    "## Setting up a table with a linear integer index\n",
    "\n",
    "Our assumption table has string columns, but we don't use these to identify anything. We use the `index` column which is a unique identifier for `[Sex, Underwriting]` combinations."
   ]
  },
  {
   "cell_type": "code",
   "execution_count": 23,
   "metadata": {},
   "outputs": [],
   "source": [
    "\n",
    "class MortalityTable:\n",
    "    def __init__(self, select, ultimate):\n",
    "        self.select = select\n",
    "        self.ultimate = ultimate\n",
    "    def __call__(self, linear_index, issue_age, duration): # duration starts at 0\n",
    "        return np.where(\n",
    "            duration < self.select.shape[-1],\n",
    "            self.select[linear_index, issue_age-18, np.minimum(duration, self.select.shape[-1] - 1)],\n",
    "            self.ultimate[linear_index, issue_age-18+duration],\n",
    "            \n",
    "        )\n",
    "    def __repr__(self):\n",
    "        return f\"MortalityTable(select={self.select}, ultimate={self.ultimate})\"\n",
    "    \n",
    "    @classmethod\n",
    "    def from_filesystem(cls):\n",
    "        with open('assumption_tables/2017_loaded_CSO_mortality_rates_select.npy', 'rb') as f:\n",
    "            select = np.load(f)\n",
    "        with open('assumption_tables/2017_loaded_CSO_mortality_rates_ultimate.npy', 'rb') as f:\n",
    "            ultimate = np.load(f)\n",
    "        return cls(select, ultimate)\n",
    "    \n",
    "mort = MortalityTable.from_filesystem()"
   ]
  },
  {
   "cell_type": "markdown",
   "metadata": {},
   "source": [
    "## Join the assumption\n",
    "\n",
    "This happens once."
   ]
  },
  {
   "cell_type": "code",
   "execution_count": 37,
   "metadata": {},
   "outputs": [],
   "source": [
    "mp = pd.read_csv('modelpoints_tables/2017_loaded_CSO_modelpoints.csv')\n",
    "index_lookup = pd.read_csv('assumption_tables/2017_loaded_CSO_index.csv')[['index', 'Underwriting', 'Sex']]"
   ]
  },
  {
   "cell_type": "code",
   "execution_count": 42,
   "metadata": {},
   "outputs": [
    {
     "data": {
      "text/plain": [
       "Index(['Underwriting', 'Sex', 'IssueAge', 'Duration'], dtype='object')"
      ]
     },
     "execution_count": 42,
     "metadata": {},
     "output_type": "execute_result"
    }
   ],
   "source": [
    "mp.columns"
   ]
  },
  {
   "cell_type": "code",
   "execution_count": 38,
   "metadata": {},
   "outputs": [
    {
     "name": "stdout",
     "output_type": "stream",
     "text": [
      "17.8 ms ± 2.96 ms per loop (mean ± std. dev. of 7 runs, 100 loops each)\n"
     ]
    }
   ],
   "source": [
    "%%timeit\n",
    "mp.merge(index_lookup, on=['Underwriting', 'Sex'])"
   ]
  },
  {
   "cell_type": "code",
   "execution_count": 45,
   "metadata": {},
   "outputs": [],
   "source": [
    "class EnrichedModelPoints:\n",
    "    def __init__(self, mp, index_lookup):\n",
    "        self.enriched_mp = mp.merge(index_lookup, on=['Underwriting', 'Sex'])\n",
    "        self.mort_index = self.enriched_mp['index'].values\n",
    "        self.issue_age = self.enriched_mp['IssueAge'].values\n",
    "        self.initial_duration = self.enriched_mp['Duration'].values\n",
    "\n",
    "enriched_mp = EnrichedModelPoints(mp, index_lookup)"
   ]
  },
  {
   "cell_type": "markdown",
   "metadata": {},
   "source": [
    "## Lookup values"
   ]
  },
  {
   "cell_type": "code",
   "execution_count": 46,
   "metadata": {},
   "outputs": [
    {
     "name": "stdout",
     "output_type": "stream",
     "text": [
      "1.2 ms ± 95.2 µs per loop (mean ± std. dev. of 7 runs, 1,000 loops each)\n"
     ]
    }
   ],
   "source": [
    "%%timeit\n",
    "mort(enriched_mp.mort_index, enriched_mp.issue_age, enriched_mp.initial_duration)"
   ]
  },
  {
   "cell_type": "code",
   "execution_count": 47,
   "metadata": {},
   "outputs": [
    {
     "data": {
      "text/plain": [
       "array([0.0003 , 0.00221, 0.00071, ..., 0.00101, 0.00046, 0.00049])"
      ]
     },
     "execution_count": 47,
     "metadata": {},
     "output_type": "execute_result"
    }
   ],
   "source": [
    "mort(enriched_mp.mort_index, enriched_mp.issue_age, enriched_mp.initial_duration)"
   ]
  }
 ],
 "metadata": {
  "kernelspec": {
   "display_name": "Python 3",
   "language": "python",
   "name": "python3"
  },
  "language_info": {
   "codemirror_mode": {
    "name": "ipython",
    "version": 3
   },
   "file_extension": ".py",
   "mimetype": "text/x-python",
   "name": "python",
   "nbconvert_exporter": "python",
   "pygments_lexer": "ipython3",
   "version": "3.10.13"
  }
 },
 "nbformat": 4,
 "nbformat_minor": 2
}
